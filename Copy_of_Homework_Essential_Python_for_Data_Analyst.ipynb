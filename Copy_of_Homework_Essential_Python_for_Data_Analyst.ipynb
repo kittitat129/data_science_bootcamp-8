{
  "nbformat": 4,
  "nbformat_minor": 0,
  "metadata": {
    "colab": {
      "provenance": [],
      "authorship_tag": "ABX9TyP8EmBnAAafGb1IgLU20zgH",
      "include_colab_link": true
    },
    "kernelspec": {
      "name": "python3",
      "display_name": "Python 3"
    },
    "language_info": {
      "name": "python"
    }
  },
  "cells": [
    {
      "cell_type": "markdown",
      "metadata": {
        "id": "view-in-github",
        "colab_type": "text"
      },
      "source": [
        "<a href=\"https://colab.research.google.com/github/kittitat129/data_science_bootcamp-8/blob/main/Copy_of_Homework_Essential_Python_for_Data_Analyst.ipynb\" target=\"_parent\"><img src=\"https://colab.research.google.com/assets/colab-badge.svg\" alt=\"Open In Colab\"/></a>"
      ]
    },
    {
      "cell_type": "markdown",
      "source": [
        "# Homework - Essential Python for Data Analyst\n",
        "## **HW01: Pao Ying Chub Game**"
      ],
      "metadata": {
        "id": "v54IE76yeZUL"
      }
    },
    {
      "cell_type": "code",
      "source": [
        "# import sample from random\n",
        "from random import sample\n",
        "\n",
        "# list of paoyingchub choice\n",
        "choice = [\"rock\", \"scissor\", \"paper\"]\n",
        "\n",
        "def pao_ying_chub():\n",
        "    score_you = 0\n",
        "    score_bot = 0\n",
        "    while True:\n",
        "        bot = sample(choice, 1)[0]\n",
        "        rsp = input(\"Rock Scissor or Paper?\")\n",
        "        if rsp == bot:\n",
        "            print(\"Tie\")\n",
        "        elif rsp.lower() == \"rock\":\n",
        "            if bot == \"scissor\":\n",
        "                score_you += 1\n",
        "                print(f\"You win. You score: {score_you}, Bot score {score_bot}\")\n",
        "            else:\n",
        "                score_bot += 1\n",
        "                print(f\"You lose. You score: {score_you}, Bot score {score_bot}\")\n",
        "        elif rsp.lower() == \"scissor\":\n",
        "            if bot == \"paper\":\n",
        "                score_you += 1\n",
        "                print(f\"You win. You score: {score_you}, Bot score {score_bot}\")\n",
        "            else:\n",
        "                score_bot += 1\n",
        "                print(f\"You lose. You score: {score_you}, Bot score {score_bot}\")\n",
        "        elif rsp.lower() == \"paper\":\n",
        "            if bot == \"rock\":\n",
        "                score_you += 1\n",
        "                print(f\"You win. You score: {score_you}, Bot score {score_bot}\")\n",
        "            else:\n",
        "                score_bot += 1\n",
        "                print(f\"You lose. You score: {score_you}, Bot score {score_bot}\")\n",
        "        elif rsp.lower() == \"quit\":\n",
        "            return(\"See you again :)\")\n",
        "        else:\n",
        "            print(\"Invalid answer, please try again!\")"
      ],
      "metadata": {
        "id": "Y8s8C-JbIFZA"
      },
      "execution_count": null,
      "outputs": []
    },
    {
      "cell_type": "code",
      "source": [
        "pao_ying_chub()"
      ],
      "metadata": {
        "colab": {
          "base_uri": "https://localhost:8080/",
          "height": 747
        },
        "id": "e6H3TzeRkboV",
        "outputId": "1d021fc6-1595-4d80-d4f5-83128ebe706b"
      },
      "execution_count": null,
      "outputs": [
        {
          "name": "stdout",
          "output_type": "stream",
          "text": [
            "Rock Scissor or Paper?rock\n",
            "You win. You score: 1, Bot score 0\n",
            "Rock Scissor or Paper?rock\n",
            "You win. You score: 2, Bot score 0\n",
            "Rock Scissor or Paper?rock\n",
            "Tie\n",
            "Rock Scissor or Paper?rock\n",
            "You win. You score: 3, Bot score 0\n",
            "Rock Scissor or Paper?rock\n",
            "Tie\n",
            "Rock Scissor or Paper?rock\n",
            "You win. You score: 4, Bot score 0\n",
            "Rock Scissor or Paper?rock\n",
            "You lose. You score: 4, Bot score 1\n",
            "Rock Scissor or Paper?rock\n",
            "You lose. You score: 4, Bot score 2\n",
            "Rock Scissor or Paper?skaldfj\n",
            "Invalid answer, please try again!\n",
            "Rock Scissor or Paper?rock\n",
            "You lose. You score: 4, Bot score 3\n",
            "Rock Scissor or Paper?rock\n",
            "Tie\n",
            "Rock Scissor or Paper?rock\n",
            "You win. You score: 5, Bot score 3\n",
            "Rock Scissor or Paper?Rock\n",
            "You lose. You score: 5, Bot score 4\n",
            "Rock Scissor or Paper?rocK\n",
            "You lose. You score: 5, Bot score 5\n",
            "Rock Scissor or Paper?rock\n",
            "Tie\n",
            "Rock Scissor or Paper?rock\n",
            "Tie\n",
            "Rock Scissor or Paper?rock\n",
            "You lose. You score: 5, Bot score 6\n",
            "Rock Scissor or Paper?rock\n",
            "You win. You score: 6, Bot score 6\n",
            "Rock Scissor or Paper?rock\n",
            "You win. You score: 7, Bot score 6\n",
            "Rock Scissor or Paper?rock\n",
            "Tie\n",
            "Rock Scissor or Paper?quit\n"
          ]
        },
        {
          "output_type": "execute_result",
          "data": {
            "text/plain": [
              "'See you again :)'"
            ],
            "application/vnd.google.colaboratory.intrinsic+json": {
              "type": "string"
            }
          },
          "metadata": {},
          "execution_count": 8
        }
      ]
    },
    {
      "cell_type": "markdown",
      "source": [
        "## **HW02 - Class ATM at least 5 methods**"
      ],
      "metadata": {
        "id": "ry6-SeCkMixo"
      }
    },
    {
      "cell_type": "code",
      "source": [
        "class Atm:\n",
        "    def __init__(self, account_amount, password):\n",
        "        self.amount = account_amount\n",
        "        self.password = password\n",
        "    def deposit(self):\n",
        "        while True:\n",
        "            pwd = input(\"Please insert your password: \")\n",
        "            if pwd.lower() == \"quit\":\n",
        "                return(\"Thank you for using our services, see you again\")\n",
        "            elif int(pwd) == self.password:\n",
        "                dep = int(input(\"Please insert cash\"))\n",
        "                self.amount += dep\n",
        "                return(f\"You have successfully deposited {dep}THB. Your account has {self.amount}THB\")\n",
        "            else:\n",
        "                print(\"Incorrect password, please try insert again\")\n",
        "    def withdraw(self):\n",
        "        while True:\n",
        "            pwd = input(\"Please insert your password: \")\n",
        "            if pwd.lower() == \"quit\":\n",
        "                return(\"Thank you for using our services, see you again\")\n",
        "            elif int(pwd) == self.password:\n",
        "                withd = input(\"Please insert the amount you would like to withdraw: \")\n",
        "                if withd.lower() == \"quit\":\n",
        "                    return(\"Thank you for using our services, see you again\")\n",
        "                elif (int(withd) % 100) == 0:\n",
        "                    if int(withd) > self.amount:\n",
        "                        cont = input(f\"You only have {self.amount}, which is insufficient. Do you wish to continue (Y/N)?: \")\n",
        "                        if cont.lower() == \"y\":\n",
        "                            continue\n",
        "                        elif cont.lower() == \"n\":\n",
        "                            return(\"Thank you for using our services, see you again\")\n",
        "                    else:\n",
        "                        self.amount -= int(withd)\n",
        "                        return(f\"You have succesfully withdrawn {withd}THB. You have {self.amount}THB left in your account.\")\n",
        "                elif (int(withd) % 100) != 0:\n",
        "                    print(\"Please re-insert the amount divisible by 1000, 500, or 100\")\n",
        "            else:\n",
        "                print(\"Incorrect password, please try insert again\")\n",
        "    def transfer(self):\n",
        "        while True:\n",
        "            acc_num = input(\"Please specify the account number you would like to transfer to: \")\n",
        "            if (acc_num.lower() == \"quit\"):\n",
        "                return(\"Thank you for using our services, see you again\")\n",
        "            transf = input(\"How much would you like to transfer?: \")\n",
        "            if (transf.lower() == \"quit\"):\n",
        "                return(\"Thank you for using our services, see you again\")\n",
        "            elif int(transf) > self.amount:\n",
        "                cont = input(f\"You only have {self.amount}, which is insufficient. Do you wish to continue (Y/N)?\")\n",
        "                if cont.lower() == \"y\":\n",
        "                    continue\n",
        "                elif cont.lower() == \"n\":\n",
        "                    return(\"Thank you for using our services, see you again\")\n",
        "            else:\n",
        "                self.amount -= int(transf)\n",
        "                return(f\"You have transfer {transf}THB to {int(acc_num)}. Your account has {self.amount}THB left.\")"
      ],
      "metadata": {
        "id": "o2Ep3y5SnxVI"
      },
      "execution_count": null,
      "outputs": []
    },
    {
      "cell_type": "code",
      "source": [
        "class Atm:\n",
        "    def __init__(self, account_amount, password):\n",
        "        self.amount = account_amount\n",
        "        self.password = password\n",
        "    def deposit(self):\n",
        "        while True:\n",
        "            pwd = input(\"Please insert your password: \")\n",
        "            if pwd.lower() == \"quit\":\n",
        "                return(\"Thank you for using our services, see you again\")\n",
        "            elif int(pwd) == self.password:\n",
        "                dep = int(input(\"Please insert cash\"))\n",
        "                self.amount += dep\n",
        "                return(f\"You have successfully deposited {dep}THB. Your account has {self.amount}THB\")\n",
        "            else:\n",
        "                print(\"Incorrect password, please try insert again\")\n",
        "    def withdraw(self):\n",
        "        while True:\n",
        "            pwd = input(\"Please insert your password: \")\n",
        "            if pwd.lower() == \"quit\":\n",
        "                return(\"Thank you for using our services, see you again\")\n",
        "            elif int(pwd) == self.password:\n",
        "                while True:\n",
        "                    withd = input(\"Please insert the amount you would like to withdraw: \")\n",
        "                    if withd.lower() == \"quit\":\n",
        "                        return(\"Thank you for using our services, see you again\")\n",
        "                    elif (int(withd) % 100) == 0:\n",
        "                        if int(withd) > self.amount:\n",
        "                            cont = input(f\"You only have {self.amount}, which is insufficient. Do you wish to continue (Y/N)?: \")\n",
        "                            if cont.lower() == \"y\":\n",
        "                                continue\n",
        "                            elif cont.lower() == \"n\":\n",
        "                                return(\"Thank you for using our services, see you again\")\n",
        "                        else:\n",
        "                            self.amount -= int(withd)\n",
        "                            return(f\"You have succesfully withdrawn {withd}THB. You have {self.amount}THB left in your account.\")\n",
        "                    elif (int(withd) % 100) != 0:\n",
        "                        print(\"Please re-insert the amount divisible by 1000, 500, or 100\")\n",
        "            else:\n",
        "                print(\"Incorrect password, please try insert again\")\n",
        "    def transfer(self):\n",
        "        while True:\n",
        "            pwd = input(\"Please insert your password: \")\n",
        "            if pwd.lower() == \"quit\":\n",
        "                return(\"Thank you for using our services, see you again\")\n",
        "            elif int(pwd) == self.password:\n",
        "                acc_num = input(\"Please specify the account number you would like to transfer to: \")\n",
        "                if (acc_num.lower() == \"quit\"):\n",
        "                    return(\"Thank you for using our services, see you again\")\n",
        "                while True:\n",
        "                    transf = input(\"How much would you like to transfer?: \")\n",
        "                    if (transf.lower() == \"quit\"):\n",
        "                        return(\"Thank you for using our services, see you again\")\n",
        "                    elif int(transf) > self.amount:\n",
        "                        cont = input(f\"You only have {self.amount}, which is insufficient. Do you wish to continue (Y/N)?: \")\n",
        "                        if cont.lower() == \"y\":\n",
        "                            continue\n",
        "                        elif cont.lower() == \"n\":\n",
        "                            return(\"Thank you for using our services, see you again\")\n",
        "                    else:\n",
        "                        self.amount -= int(transf)\n",
        "                        return(f\"You have transfer {transf}THB to {int(acc_num)}. Your account has {self.amount}THB left.\")\n",
        "            else:\n",
        "                print(\"Incorrect password, please try insert again\")\n",
        "\n",
        "    def pay(self):\n",
        "        while True:\n",
        "            pwd = input(\"Please insert your password: \")\n",
        "            if pwd.lower() == \"quit\":\n",
        "                return(\"Thank you for using our services, see you again\")\n",
        "            elif int(pwd) == self.password:\n",
        "                firm_id = int(input(\"Please insert the firm id: \"))\n",
        "                ref_id = int(input(\"Please insert the reference number for the payment: \"))\n",
        "                while True:\n",
        "                    pay_amount = input(\"please specify the amount of payment: \")\n",
        "                    if self.amount == \"quit\":\n",
        "                        return(\"Thank you for using our services, see you again\")\n",
        "                    elif self.amount < int(pay_amount):\n",
        "                        cont = input(f\"You only have {self.amount}, which is insufficient. Do you wish to continue (Y/N)?: \")\n",
        "                        if cont.lower() == \"y\":\n",
        "                            continue\n",
        "                        elif cont.lower() == \"n\":\n",
        "                            return(\"Thank you for using our services, see you again\")\n",
        "                    else:\n",
        "                        self.amount -= int(pay_amount)\n",
        "                        return(f\"You have paid {int(pay_amount)}THB to firm no.{firm_id} (Ref id: {ref_id}). Your account has {self.amount}THB left.\")\n",
        "            else:\n",
        "                print(\"Incorrect password, please try insert again\")\n",
        "    def reset_pwd(self):\n",
        "        while True:\n",
        "            pwd = input(\"Please insert your password: \")\n",
        "            if pwd.lower() == \"quit\":\n",
        "                return(\"Thank you for using our services, see you again\")\n",
        "            elif int(pwd) == self.password:\n",
        "                while True:\n",
        "                    new_pwd = input(\"Please enter new password: \")\n",
        "                    if new_pwd == \"quit\":\n",
        "                        return(\"Thank you for using our services, see you again\")\n",
        "                    else:\n",
        "                        new_pwd_confirm = input(\"Please re-enter your new password to confirm: \")\n",
        "                        if new_pwd == new_pwd_confirm:\n",
        "                            self.password = new_pwd\n",
        "                            return(\"Successfully reset your password!\")\n",
        "                        else:\n",
        "                            print(\"The new password is not in line with the confirmation, please try again!\")\n",
        "            else:\n",
        "                print(\"Incorrect password, please try insert again\")"
      ],
      "metadata": {
        "id": "bgSsQVEvzWwb"
      },
      "execution_count": null,
      "outputs": []
    },
    {
      "cell_type": "code",
      "source": [
        "atm1 = Atm(1000, 2900)\n",
        "atm1.withdraw()"
      ],
      "metadata": {
        "colab": {
          "base_uri": "https://localhost:8080/",
          "height": 192
        },
        "id": "xTZHDkGwhNvm",
        "outputId": "aed915dd-d78b-4676-b5b7-d39ba869220b"
      },
      "execution_count": null,
      "outputs": [
        {
          "name": "stdout",
          "output_type": "stream",
          "text": [
            "Please insert your password: 8083\n",
            "Incorrect password, please try insert again\n",
            "Please insert your password: 2900\n",
            "Please insert the amount you would like to withdraw: 5000\n",
            "You only have 1000, which is insufficient. Do you wish to continue (Y/N)?: Y\n",
            "Please insert the amount you would like to withdraw: 2888\n",
            "Please re-insert the amount divisible by 1000, 500, or 100\n",
            "Please insert the amount you would like to withdraw: 5000\n",
            "You only have 1000, which is insufficient. Do you wish to continue (Y/N)?: N\n"
          ]
        },
        {
          "output_type": "execute_result",
          "data": {
            "text/plain": [
              "'Thank you for using our services, see you again'"
            ],
            "application/vnd.google.colaboratory.intrinsic+json": {
              "type": "string"
            }
          },
          "metadata": {},
          "execution_count": 86
        }
      ]
    },
    {
      "cell_type": "code",
      "source": [
        "atm1 = Atm(1000, 2900)\n",
        "atm1.deposit()"
      ],
      "metadata": {
        "colab": {
          "base_uri": "https://localhost:8080/",
          "height": 105
        },
        "id": "FUqPPdCYj9B8",
        "outputId": "90192062-244e-44c1-bfc8-dcea330c171c"
      },
      "execution_count": null,
      "outputs": [
        {
          "name": "stdout",
          "output_type": "stream",
          "text": [
            "Please insert your password: 4884\n",
            "Incorrect password, please try insert again\n",
            "Please insert your password: 2900\n",
            "Please insert cash500\n"
          ]
        },
        {
          "output_type": "execute_result",
          "data": {
            "text/plain": [
              "'You have successfully deposited 500THB. Your account has 1400THB'"
            ],
            "application/vnd.google.colaboratory.intrinsic+json": {
              "type": "string"
            }
          },
          "metadata": {},
          "execution_count": 72
        }
      ]
    },
    {
      "cell_type": "code",
      "source": [
        "atm1 = Atm(1000, 2900)\n",
        "atm1.transfer()"
      ],
      "metadata": {
        "colab": {
          "base_uri": "https://localhost:8080/",
          "height": 174
        },
        "id": "5lMaw0cRkz-H",
        "outputId": "cef87584-7f8a-42fa-b485-c8c8a3d9f9a6"
      },
      "execution_count": null,
      "outputs": [
        {
          "name": "stdout",
          "output_type": "stream",
          "text": [
            "Please insert your password: 8983\n",
            "Incorrect password, please try insert again\n",
            "Please insert your password: 2900\n",
            "Please specify the account number you would like to transfer to: 5000\n",
            "How much would you like to transfer?: 5000\n",
            "You only have 1000, which is insufficient. Do you wish to continue (Y/N)?Y\n",
            "How much would you like to transfer?: 5000\n",
            "You only have 1000, which is insufficient. Do you wish to continue (Y/N)?N\n"
          ]
        },
        {
          "output_type": "execute_result",
          "data": {
            "text/plain": [
              "'Thank you for using our services, see you again'"
            ],
            "application/vnd.google.colaboratory.intrinsic+json": {
              "type": "string"
            }
          },
          "metadata": {},
          "execution_count": 92
        }
      ]
    },
    {
      "cell_type": "code",
      "source": [
        "atm1 = Atm(1000, 2900)\n",
        "atm1.pay()"
      ],
      "metadata": {
        "colab": {
          "base_uri": "https://localhost:8080/",
          "height": 105
        },
        "id": "xtgtdpJ5pR6D",
        "outputId": "b5915a34-967d-4405-ef8b-036a7a0e85c9"
      },
      "execution_count": null,
      "outputs": [
        {
          "name": "stdout",
          "output_type": "stream",
          "text": [
            "Please insert your password: 2900\n",
            "Please insert the firm id: 442\n",
            "Please insert the reference number for the payment: 45520\n",
            "please specify the amount of payment: 500\n"
          ]
        },
        {
          "output_type": "execute_result",
          "data": {
            "text/plain": [
              "'You have paid 500THB to firm no.442 (Ref id: 45520). Your account has 500THB left.'"
            ],
            "application/vnd.google.colaboratory.intrinsic+json": {
              "type": "string"
            }
          },
          "metadata": {},
          "execution_count": 10
        }
      ]
    },
    {
      "cell_type": "code",
      "source": [
        "atm1 = Atm(1000, 2900)\n",
        "atm1.reset_pwd()\n",
        "print(f\"Your new password is {atm1.password}\")"
      ],
      "metadata": {
        "colab": {
          "base_uri": "https://localhost:8080/"
        },
        "id": "-Mqcytixpof-",
        "outputId": "9ed32971-c4af-43de-b2bd-d1d47aaf325b"
      },
      "execution_count": null,
      "outputs": [
        {
          "output_type": "stream",
          "name": "stdout",
          "text": [
            "Please insert your password: 2900\n",
            "Please enter new password: 4420\n",
            "Please re-enter your new password to confirm: 4420\n",
            "Your new password is 4420\n"
          ]
        }
      ]
    },
    {
      "cell_type": "markdown",
      "source": [
        "## **HW03 - Find public API and use python to get data**"
      ],
      "metadata": {
        "id": "ptsYRY7tlW9n"
      }
    },
    {
      "cell_type": "code",
      "source": [
        "import requests\n",
        "import time\n",
        "starships = []\n",
        "\n",
        "for i in range(10, 20, 1):\n",
        "    url = f\"https://swapi.dev/api/starships/{i}\"\n",
        "    resp = requests.get(url)\n",
        "    if resp.status_code == 200:\n",
        "        starships.append(resp.json()[\"model\"])\n",
        "    else:\n",
        "        starships.append(\"Error\")\n",
        "    time.sleep(1)\n",
        "\n",
        "print(starships)"
      ],
      "metadata": {
        "colab": {
          "base_uri": "https://localhost:8080/"
        },
        "id": "O3hP9FHBk4Ji",
        "outputId": "c3a7ece0-cc66-4e96-99d3-14d3c673f5aa"
      },
      "execution_count": null,
      "outputs": [
        {
          "output_type": "stream",
          "name": "stdout",
          "text": [
            "['YT-1300 light freighter', 'BTL Y-wing', 'T-65 X-wing', 'Twin Ion Engine Advanced x1', 'Error', 'Executor-class star dreadnought', 'Error', 'GR-75 medium transport', 'Error', 'Error']\n"
          ]
        }
      ]
    },
    {
      "cell_type": "markdown",
      "source": [
        "## **HW04 - Create Lauched Year column in a dataframe**"
      ],
      "metadata": {
        "id": "0RZVnCB_x7yV"
      }
    },
    {
      "cell_type": "code",
      "source": [
        "# Install gazpacho library for Web Scraping\n",
        "!pip install gazpacho\n",
        "!pip list | grep \"^gaz\""
      ],
      "metadata": {
        "colab": {
          "base_uri": "https://localhost:8080/"
        },
        "id": "eO7LZqjUpzIH",
        "outputId": "dd238431-ca0d-497c-ea3d-7ec36b3f36cf"
      },
      "execution_count": null,
      "outputs": [
        {
          "output_type": "stream",
          "name": "stdout",
          "text": [
            "Requirement already satisfied: gazpacho in /usr/local/lib/python3.10/dist-packages (1.1)\n",
            "gazpacho                         1.1\n"
          ]
        }
      ]
    },
    {
      "cell_type": "code",
      "source": [
        "# Import library for web scraping\n",
        "from gazpacho import Soup\n",
        "import requests\n",
        "\n",
        "url = \"https://www.imdb.com/search/title/?groups=top_100&sort=user_rating,desc\"\n",
        "resp = requests.get(url) #get data from website\n",
        "\n",
        "## Extract movie name & rating\n",
        "imdb = Soup(resp.text) # Change text data from website to Soup Object\n",
        "titles = imdb.find(\"h3\", {\"class\":\"lister-item-header\"}) #find movie_name\n",
        "ratings = imdb.find(\"div\", {\"class\":\"inline-block ratings-imdb-rating\"}) # find ratings\n",
        "years = imdb.find(\"span\", {\"class\":\"lister-item-year text-muted unbold\"}) # find years\n",
        "\n",
        "##  .strip() data cleaning method (list comprehension format)\n",
        "clean_titles = [title.strip() for title in titles] # for loop append clean title to clean_titles list\n",
        "clean_ratings = [float(rating.strip()) for rating in ratings]\n",
        "clean_years = [int(year.strip().replace(\"(\",'').replace(\")\",'')) for year in years]\n",
        "print(clean_titles)\n",
        "print(clean_ratings)\n",
        "print(clean_years)\n"
      ],
      "metadata": {
        "colab": {
          "base_uri": "https://localhost:8080/"
        },
        "id": "afKtzBD2qeLD",
        "outputId": "4066c9b0-bf77-470d-84e8-b90b773bea3d"
      },
      "execution_count": null,
      "outputs": [
        {
          "output_type": "stream",
          "name": "stdout",
          "text": [
            "['1. The Shawshank Redemption (1994)', '2. The Godfather (1972)', '3. The Dark Knight (2008)', \"4. Schindler's List (1993)\", '5. The Godfather Part II (1974)', '6. The Lord of the Rings: The Return of the King (2003)', '7. 12 Angry Men (1957)', '8. Pulp Fiction (1994)', '9. Spider-Man: Across the Spider-Verse (2023)', '10. Inception (2010)', '11. The Lord of the Rings: The Fellowship of the Ring (2001)', '12. Fight Club (1999)', '13. Forrest Gump (1994)', '14. The Good, the Bad and the Ugly (1966)', '15. The Lord of the Rings: The Two Towers (2002)', '16. Interstellar (2014)', '17. Goodfellas (1990)', '18. The Matrix (1999)', \"19. One Flew Over the Cuckoo's Nest (1975)\", '20. Star Wars: Episode V - The Empire Strikes Back (1980)', '21. Oppenheimer (2023)', '22. Se7en (1995)', '23. The Silence of the Lambs (1991)', '24. Terminator 2: Judgment Day (1991)', '25. Saving Private Ryan (1998)', '26. The Green Mile (1999)', '27. Spirited Away (2001)', '28. Star Wars: Episode IV - A New Hope (1977)', '29. City of God (2002)', '30. Life Is Beautiful (1997)', '31. Seven Samurai (1954)', \"32. It's a Wonderful Life (1946)\", '33. Harakiri (1962)', '34. The Prestige (2006)', '35. The Departed (2006)', '36. Gladiator (2000)', '37. Parasite (2019)', '38. Django Unchained (2012)', '39. Back to the Future (1985)', '40. Alien (1979)', '41. Whiplash (2014)', '42. Léon: The Professional (1994)', '43. The Pianist (2002)', '44. The Usual Suspects (1995)', '45. The Lion King (1994)', '46. American History X (1998)', '47. Psycho (1960)', '48. Once Upon a Time in the West (1968)', '49. Casablanca (1942)', '50. The Intouchables (2011)']\n",
            "[9.3, 9.2, 9.0, 9.0, 9.0, 9.0, 9.0, 8.9, 8.8, 8.8, 8.8, 8.8, 8.8, 8.8, 8.8, 8.7, 8.7, 8.7, 8.7, 8.7, 8.6, 8.6, 8.6, 8.6, 8.6, 8.6, 8.6, 8.6, 8.6, 8.6, 8.6, 8.6, 8.6, 8.5, 8.5, 8.5, 8.5, 8.5, 8.5, 8.5, 8.5, 8.5, 8.5, 8.5, 8.5, 8.5, 8.5, 8.5, 8.5, 8.5]\n",
            "[1994, 1972, 2008, 1993, 1974, 2003, 1957, 1994, 2023, 2010, 2001, 1999, 1994, 1966, 2002, 2014, 1990, 1999, 1975, 1980, 2023, 1995, 1991, 1991, 1998, 1999, 2001, 1977, 2002, 1997, 1954, 1946, 1962, 2006, 2006, 2000, 2019, 2012, 1985, 1979, 2014, 1994, 2002, 1995, 1994, 1998, 1960, 1968, 1942, 2011]\n"
          ]
        }
      ]
    },
    {
      "cell_type": "code",
      "source": [
        "import pandas as pd\n",
        "movie_database = pd.DataFrame({\n",
        "    \"title\": clean_titles,\n",
        "    \"rating\": clean_ratings,\n",
        "    \"year\": clean_years\n",
        "})\n",
        "\n",
        "movie_database.head()"
      ],
      "metadata": {
        "colab": {
          "base_uri": "https://localhost:8080/",
          "height": 206
        },
        "id": "hIevd92y0j-a",
        "outputId": "ca8a2476-c881-4b5d-a459-4dab70c4c65a"
      },
      "execution_count": null,
      "outputs": [
        {
          "output_type": "execute_result",
          "data": {
            "text/plain": [
              "                                title  rating  year\n",
              "0  1. The Shawshank Redemption (1994)     9.3  1994\n",
              "1             2. The Godfather (1972)     9.2  1972\n",
              "2           3. The Dark Knight (2008)     9.0  2008\n",
              "3          4. Schindler's List (1993)     9.0  1993\n",
              "4     5. The Godfather Part II (1974)     9.0  1974"
            ],
            "text/html": [
              "\n",
              "  <div id=\"df-54ab33a1-868f-428e-bd89-02f1d9b100f2\" class=\"colab-df-container\">\n",
              "    <div>\n",
              "<style scoped>\n",
              "    .dataframe tbody tr th:only-of-type {\n",
              "        vertical-align: middle;\n",
              "    }\n",
              "\n",
              "    .dataframe tbody tr th {\n",
              "        vertical-align: top;\n",
              "    }\n",
              "\n",
              "    .dataframe thead th {\n",
              "        text-align: right;\n",
              "    }\n",
              "</style>\n",
              "<table border=\"1\" class=\"dataframe\">\n",
              "  <thead>\n",
              "    <tr style=\"text-align: right;\">\n",
              "      <th></th>\n",
              "      <th>title</th>\n",
              "      <th>rating</th>\n",
              "      <th>year</th>\n",
              "    </tr>\n",
              "  </thead>\n",
              "  <tbody>\n",
              "    <tr>\n",
              "      <th>0</th>\n",
              "      <td>1. The Shawshank Redemption (1994)</td>\n",
              "      <td>9.3</td>\n",
              "      <td>1994</td>\n",
              "    </tr>\n",
              "    <tr>\n",
              "      <th>1</th>\n",
              "      <td>2. The Godfather (1972)</td>\n",
              "      <td>9.2</td>\n",
              "      <td>1972</td>\n",
              "    </tr>\n",
              "    <tr>\n",
              "      <th>2</th>\n",
              "      <td>3. The Dark Knight (2008)</td>\n",
              "      <td>9.0</td>\n",
              "      <td>2008</td>\n",
              "    </tr>\n",
              "    <tr>\n",
              "      <th>3</th>\n",
              "      <td>4. Schindler's List (1993)</td>\n",
              "      <td>9.0</td>\n",
              "      <td>1993</td>\n",
              "    </tr>\n",
              "    <tr>\n",
              "      <th>4</th>\n",
              "      <td>5. The Godfather Part II (1974)</td>\n",
              "      <td>9.0</td>\n",
              "      <td>1974</td>\n",
              "    </tr>\n",
              "  </tbody>\n",
              "</table>\n",
              "</div>\n",
              "    <div class=\"colab-df-buttons\">\n",
              "\n",
              "  <div class=\"colab-df-container\">\n",
              "    <button class=\"colab-df-convert\" onclick=\"convertToInteractive('df-54ab33a1-868f-428e-bd89-02f1d9b100f2')\"\n",
              "            title=\"Convert this dataframe to an interactive table.\"\n",
              "            style=\"display:none;\">\n",
              "\n",
              "  <svg xmlns=\"http://www.w3.org/2000/svg\" height=\"24px\" viewBox=\"0 -960 960 960\">\n",
              "    <path d=\"M120-120v-720h720v720H120Zm60-500h600v-160H180v160Zm220 220h160v-160H400v160Zm0 220h160v-160H400v160ZM180-400h160v-160H180v160Zm440 0h160v-160H620v160ZM180-180h160v-160H180v160Zm440 0h160v-160H620v160Z\"/>\n",
              "  </svg>\n",
              "    </button>\n",
              "\n",
              "  <style>\n",
              "    .colab-df-container {\n",
              "      display:flex;\n",
              "      gap: 12px;\n",
              "    }\n",
              "\n",
              "    .colab-df-convert {\n",
              "      background-color: #E8F0FE;\n",
              "      border: none;\n",
              "      border-radius: 50%;\n",
              "      cursor: pointer;\n",
              "      display: none;\n",
              "      fill: #1967D2;\n",
              "      height: 32px;\n",
              "      padding: 0 0 0 0;\n",
              "      width: 32px;\n",
              "    }\n",
              "\n",
              "    .colab-df-convert:hover {\n",
              "      background-color: #E2EBFA;\n",
              "      box-shadow: 0px 1px 2px rgba(60, 64, 67, 0.3), 0px 1px 3px 1px rgba(60, 64, 67, 0.15);\n",
              "      fill: #174EA6;\n",
              "    }\n",
              "\n",
              "    .colab-df-buttons div {\n",
              "      margin-bottom: 4px;\n",
              "    }\n",
              "\n",
              "    [theme=dark] .colab-df-convert {\n",
              "      background-color: #3B4455;\n",
              "      fill: #D2E3FC;\n",
              "    }\n",
              "\n",
              "    [theme=dark] .colab-df-convert:hover {\n",
              "      background-color: #434B5C;\n",
              "      box-shadow: 0px 1px 3px 1px rgba(0, 0, 0, 0.15);\n",
              "      filter: drop-shadow(0px 1px 2px rgba(0, 0, 0, 0.3));\n",
              "      fill: #FFFFFF;\n",
              "    }\n",
              "  </style>\n",
              "\n",
              "    <script>\n",
              "      const buttonEl =\n",
              "        document.querySelector('#df-54ab33a1-868f-428e-bd89-02f1d9b100f2 button.colab-df-convert');\n",
              "      buttonEl.style.display =\n",
              "        google.colab.kernel.accessAllowed ? 'block' : 'none';\n",
              "\n",
              "      async function convertToInteractive(key) {\n",
              "        const element = document.querySelector('#df-54ab33a1-868f-428e-bd89-02f1d9b100f2');\n",
              "        const dataTable =\n",
              "          await google.colab.kernel.invokeFunction('convertToInteractive',\n",
              "                                                    [key], {});\n",
              "        if (!dataTable) return;\n",
              "\n",
              "        const docLinkHtml = 'Like what you see? Visit the ' +\n",
              "          '<a target=\"_blank\" href=https://colab.research.google.com/notebooks/data_table.ipynb>data table notebook</a>'\n",
              "          + ' to learn more about interactive tables.';\n",
              "        element.innerHTML = '';\n",
              "        dataTable['output_type'] = 'display_data';\n",
              "        await google.colab.output.renderOutput(dataTable, element);\n",
              "        const docLink = document.createElement('div');\n",
              "        docLink.innerHTML = docLinkHtml;\n",
              "        element.appendChild(docLink);\n",
              "      }\n",
              "    </script>\n",
              "  </div>\n",
              "\n",
              "\n",
              "<div id=\"df-3362aa26-dfef-490c-9ff3-4cbe3d916407\">\n",
              "  <button class=\"colab-df-quickchart\" onclick=\"quickchart('df-3362aa26-dfef-490c-9ff3-4cbe3d916407')\"\n",
              "            title=\"Suggest charts.\"\n",
              "            style=\"display:none;\">\n",
              "\n",
              "<svg xmlns=\"http://www.w3.org/2000/svg\" height=\"24px\"viewBox=\"0 0 24 24\"\n",
              "     width=\"24px\">\n",
              "    <g>\n",
              "        <path d=\"M19 3H5c-1.1 0-2 .9-2 2v14c0 1.1.9 2 2 2h14c1.1 0 2-.9 2-2V5c0-1.1-.9-2-2-2zM9 17H7v-7h2v7zm4 0h-2V7h2v10zm4 0h-2v-4h2v4z\"/>\n",
              "    </g>\n",
              "</svg>\n",
              "  </button>\n",
              "\n",
              "<style>\n",
              "  .colab-df-quickchart {\n",
              "    background-color: #E8F0FE;\n",
              "    border: none;\n",
              "    border-radius: 50%;\n",
              "    cursor: pointer;\n",
              "    display: none;\n",
              "    fill: #1967D2;\n",
              "    height: 32px;\n",
              "    padding: 0 0 0 0;\n",
              "    width: 32px;\n",
              "  }\n",
              "\n",
              "  .colab-df-quickchart:hover {\n",
              "    background-color: #E2EBFA;\n",
              "    box-shadow: 0px 1px 2px rgba(60, 64, 67, 0.3), 0px 1px 3px 1px rgba(60, 64, 67, 0.15);\n",
              "    fill: #174EA6;\n",
              "  }\n",
              "\n",
              "  [theme=dark] .colab-df-quickchart {\n",
              "    background-color: #3B4455;\n",
              "    fill: #D2E3FC;\n",
              "  }\n",
              "\n",
              "  [theme=dark] .colab-df-quickchart:hover {\n",
              "    background-color: #434B5C;\n",
              "    box-shadow: 0px 1px 3px 1px rgba(0, 0, 0, 0.15);\n",
              "    filter: drop-shadow(0px 1px 2px rgba(0, 0, 0, 0.3));\n",
              "    fill: #FFFFFF;\n",
              "  }\n",
              "</style>\n",
              "\n",
              "  <script>\n",
              "    async function quickchart(key) {\n",
              "      const charts = await google.colab.kernel.invokeFunction(\n",
              "          'suggestCharts', [key], {});\n",
              "    }\n",
              "    (() => {\n",
              "      let quickchartButtonEl =\n",
              "        document.querySelector('#df-3362aa26-dfef-490c-9ff3-4cbe3d916407 button');\n",
              "      quickchartButtonEl.style.display =\n",
              "        google.colab.kernel.accessAllowed ? 'block' : 'none';\n",
              "    })();\n",
              "  </script>\n",
              "</div>\n",
              "    </div>\n",
              "  </div>\n"
            ]
          },
          "metadata": {},
          "execution_count": 81
        }
      ]
    },
    {
      "cell_type": "code",
      "source": [],
      "metadata": {
        "id": "OzwtBbGC7MWm"
      },
      "execution_count": null,
      "outputs": []
    }
  ]
}